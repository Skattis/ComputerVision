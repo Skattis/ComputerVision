{
 "cells": [
  {
   "cell_type": "markdown",
   "metadata": {
    "collapsed": false
   },
   "source": [
    "# Computer Vision & Deep Learning - SEP Practical\n",
    "\n",
    "## Exercise Sheet 3: Filters, Convolutions, and Regression\n",
    "\n",
    "**Due on 16.09.11., 10:00**\n",
    "\n",
    "## Important notes\n",
    "\n",
    "- Email: Frequently check your email address registered for Moodle. All notifications regarding the course will be sent via Moodle.\n",
    "- Moodle: Please use the Moodle platform and post your questions to the forum. They will be answered by us or your fellow students.\n",
    "-  Submission: Put your code and potentially other materials inside a single ZIP file. If you use jupyter notebooks, please always create a PDF file and include it in your ZIP file. The final submission should therefore be a **single zip** file with a **PDF of your code** and the **original code** inside. The ZIP file should contain your surname and your matriculation number (Surname-MatriculationNumber.zip). Submissions that fail to follow the naming convention will not be graded!\n",
    "\n"
   ]
  },
  {
   "cell_type": "code",
   "execution_count": 1,
   "metadata": {
    "collapsed": false
   },
   "outputs": [],
   "source": [
    "import numpy as np\n",
    "from PIL import Image\n",
    "import matplotlib.pyplot as plt"
   ]
  },
  {
   "cell_type": "markdown",
   "metadata": {},
   "source": [
    "---\n",
    "## 1. Downsampling and Anti-aliasing (11)\n",
    "Downsampling in images refers to the process of reducing the resolution of an image and therefore compress the image file. When we are performing downsampling, high-frequency details may not be accurately represented or lost in the lower-resolution version, which leads to aliasing, where sharp edges appear jagged or distorted. In the following exercise you will get your hands on how to implement one of the simplest anti-alising algorithm."
   ]
  },
  {
   "cell_type": "markdown",
   "metadata": {},
   "source": [
    "### 1.1 Read data (0.5)\n",
    "Please find the attached \"munich.jpg\" image file and convert that to numpy format. Also normalize the image to range [0, 1]."
   ]
  },
  {
   "cell_type": "code",
   "execution_count": 2,
   "metadata": {},
   "outputs": [],
   "source": [
    "# TODO"
   ]
  },
  {
   "cell_type": "markdown",
   "metadata": {},
   "source": [
    "### 1.2 Naive downsampling (2)\n",
    "\n",
    "First of all, we want to try naive downsampling.\n",
    "Downsampling an image means reducing the size of that image. As a first step, we do it naively by keeping only specific rows. Downsample the image to a quarter of it's resolution by keeping every fourth row and column. Visualize them using the matplotlib library using the same figure size. Don't forget to caption them respectively."
   ]
  },
  {
   "cell_type": "code",
   "execution_count": 2,
   "metadata": {},
   "outputs": [],
   "source": [
    "# TODO"
   ]
  },
  {
   "cell_type": "markdown",
   "metadata": {},
   "source": [
    "### 1.3 Implement a Gaussian Kernel (3)\n",
    "\n",
    "Next, we will try anti-aliasing, which we covered in the lecture. To do that, we need to implement a 2D Gaussian kernel first. A Gaussian kernel is defined by the following equation:\n",
    "\n",
    "$f(x,y) = \\frac{1}{2\\pi\\sigma^2} \\exp{-\\frac{x^2+y^2}{2\\sigma^2}}$\n",
    "\n",
    "Implement a function that computes a Gaussian filter as defined above. The function should take in the kernel size and variance as inputs. Then it should output the kernel represented as an n × n NumPy array. \n",
    "\n",
    "**Hint**: Make sure that the values of your Gaussian filter sum up to 1."
   ]
  },
  {
   "cell_type": "code",
   "execution_count": 3,
   "metadata": {},
   "outputs": [],
   "source": [
    "# TODO"
   ]
  },
  {
   "cell_type": "markdown",
   "metadata": {},
   "source": [
    "### 1.4 Visualization (0.5)\n",
    "\n",
    "Visualize the Gaussian kernel with size of 200 * 200 and variance of 1000 using matplotlib. Also include a colorbar to the plot."
   ]
  },
  {
   "cell_type": "code",
   "execution_count": 4,
   "metadata": {},
   "outputs": [],
   "source": [
    "# TODO"
   ]
  },
  {
   "cell_type": "markdown",
   "metadata": {},
   "source": [
    "### 1.5 Convolution (3)\n",
    "\n",
    "Next, we apply the Gaussian kernel to the image using convolution. It is defined as the following equation:\n",
    "\n",
    "$(g \\ast f)(x,y) = \\sum\\limits_{dx=-a}^a \\sum\\limits_{dy=-b}^b g(x + dx, y + dy)f(dx,dy)$\n",
    "\n",
    "Implement a function which convolves an image with a Gaussian kernel.\n",
    "\n",
    "**Hint**: Do it seperately for each of the RGB channels"
   ]
  },
  {
   "cell_type": "code",
   "execution_count": 5,
   "metadata": {},
   "outputs": [],
   "source": [
    "# TODO"
   ]
  },
  {
   "cell_type": "markdown",
   "metadata": {},
   "source": [
    "### 1.6 Downsampling with anti-aliasing (2)\n",
    "Apply a Gaussian filter of size 5 * 5 and variance of 8 to the original image, and then apply the naive downsampling method.\n",
    "Plot the resulting image together with the naive downsampled image without anti-aliasing. Do you observe a difference?"
   ]
  },
  {
   "cell_type": "code",
   "execution_count": 6,
   "metadata": {},
   "outputs": [],
   "source": [
    "# TODO"
   ]
  },
  {
   "cell_type": "markdown",
   "metadata": {
    "collapsed": false
   },
   "source": [
    "---\n",
    "## 2. Linear Regression (9)\n",
    "\n",
    "In the last lecture we have learned about linear regression. Now we want to get some first hand-on experience."
   ]
  },
  {
   "cell_type": "markdown",
   "metadata": {},
   "source": [
    "### 2.1 Read Data (0.5)\n",
    "As a first step, please load the datapoints from the given `regression_data.txt` file using the inbuilt `open()` function. You can recycle the function from the first exercise, but this time please store it as `numpy` array instead of a list of lists. Please also print the shape of the data. The first column corresponds to $x$ and the second to $y$."
   ]
  },
  {
   "cell_type": "code",
   "execution_count": 7,
   "metadata": {},
   "outputs": [],
   "source": [
    "# TODO"
   ]
  },
  {
   "cell_type": "markdown",
   "metadata": {},
   "source": [
    "### 2.2 Visualize Data (0.5)\n",
    "\n",
    "Please visualize the data with [matplotlib](https://matplotlib.org/stable/api/) package. Ensure that you label the axes."
   ]
  },
  {
   "cell_type": "code",
   "execution_count": 8,
   "metadata": {},
   "outputs": [],
   "source": [
    "# TODO"
   ]
  },
  {
   "cell_type": "markdown",
   "metadata": {},
   "source": [
    "### 2.3 Regression Model (2)\n",
    "\n",
    "Please write a `RegressionModel` class, that accepts a weight and a bias as class attributes. The classes `forward` function should make a prediction from a given $x$."
   ]
  },
  {
   "cell_type": "code",
   "execution_count": 9,
   "metadata": {},
   "outputs": [],
   "source": [
    "# TODO"
   ]
  },
  {
   "cell_type": "markdown",
   "metadata": {},
   "source": [
    "### 2.4 Prediction (2)\n",
    "\n",
    "If we instantiate the model it can give us a prediction for any $x$. Of course, the prediction highly depends on the parameters of our model, i.e. the weight and the bias.\n",
    "\n",
    "Please make two plots where you show our data and the prediction function for the range [-1, 5] with the following parameter settings:\n",
    "\n",
    "Plot 1: $b=1.6$\n",
    "- $w=1.4$\n",
    "- $w=1.5$\n",
    "- $w=1.6$\n",
    "- $w=1.7$\n",
    "\n",
    "Plot 2: $b=2.0$\n",
    "- $w=1.4$\n",
    "- $w=1.5$\n",
    "- $w=1.6$\n",
    "- $w=1.7$\n",
    "\n",
    "Hence, each plot shows the data points from the `regression_data.txt` and four prediction models (lines). Make sure that you label the axes correctly and also include labels with the corresponding weight and bias for each prediction function.\n",
    "\n",
    "Which model would you consider the best?"
   ]
  },
  {
   "cell_type": "code",
   "execution_count": 10,
   "metadata": {},
   "outputs": [],
   "source": [
    "# TODO"
   ]
  },
  {
   "cell_type": "markdown",
   "metadata": {},
   "source": [
    "### 2.5 Mean-Squared Error (1)\n",
    "\n",
    "Please implement the mean squared error function that returns the MSE between two vectors, the ground truth value $y$ and the predicted value of our model $\\hat{y}$.\n",
    "\n",
    "$$\n",
    "MSE(y, \\hat{y}) = \\sqrt{\\sum^n_{i=1} (y_i-\\hat{y}_i)^2}\n",
    "$$\n",
    "\n",
    "Please ensure a vectorized implementation. The output of your function should be a single value."
   ]
  },
  {
   "cell_type": "code",
   "execution_count": 11,
   "metadata": {},
   "outputs": [],
   "source": [
    "# TODO"
   ]
  },
  {
   "cell_type": "markdown",
   "metadata": {},
   "source": [
    "### 2.6 Evaluation (1)\n",
    "\n",
    "With the MSE we now have a method to evaluate our different models. Please use the MSE to evaluate each invididual model from task 1.4 on the given `regression_data.txt` dataset and print out the result.\n",
    "\n",
    "Which model performs best?"
   ]
  },
  {
   "cell_type": "code",
   "execution_count": 12,
   "metadata": {},
   "outputs": [],
   "source": [
    "# TODO"
   ]
  },
  {
   "cell_type": "markdown",
   "metadata": {},
   "source": [
    "### 2.7 Final result (2)\n",
    "\n",
    "Please plot the best model with the lowest MSE, as well as the data. Then do a prediction for the given data points and also include them in the plot (but of course, with a different color)."
   ]
  },
  {
   "cell_type": "code",
   "execution_count": 13,
   "metadata": {},
   "outputs": [],
   "source": [
    "test_data = np.array([1.2, 2., 3.5])\n",
    "# TODO"
   ]
  },
  {
   "cell_type": "markdown",
   "metadata": {
    "collapsed": false
   },
   "source": [
    "---"
   ]
  }
 ],
 "metadata": {
  "kernelspec": {
   "display_name": "Python 3",
   "language": "python",
   "name": "python3"
  },
  "language_info": {
   "codemirror_mode": {
    "name": "ipython",
    "version": 3
   },
   "file_extension": ".py",
   "mimetype": "text/x-python",
   "name": "python",
   "nbconvert_exporter": "python",
   "pygments_lexer": "ipython3",
   "version": "3.9.16"
  }
 },
 "nbformat": 4,
 "nbformat_minor": 0
}
