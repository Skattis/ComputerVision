{
 "cells": [
  {
   "cell_type": "markdown",
   "metadata": {},
   "source": [
    "1. Data (5)\n",
    "1.1 Read Data (3)\n",
    "As a first step, please load the datapoints from the given cluster_data.txt file using the inbuilt open() function. Note"
   ]
  },
  {
   "cell_type": "code",
   "execution_count": 1,
   "metadata": {
    "jupyter": {
     "is_executing": true
    }
   },
   "outputs": [],
   "source": [
    "def read_data(filepath):\n",
    "    # TODO: read the file and store the datapoints in a list\n",
    "    data = []\n",
    "    with open(filepath, 'r') as f:\n",
    "        for line in f:\n",
    "            line = line.strip()\n",
    "            line = line.split(\",\")\n",
    "            data.append([float(coord) for coord in line])\n",
    "    return data"
   ]
  },
  {
   "cell_type": "markdown",
   "metadata": {},
   "source": [
    "1.2 Print Data (1)\n",
    "Please read the data and print the first 5 elements of it."
   ]
  },
  {
   "cell_type": "code",
   "execution_count": 2,
   "metadata": {},
   "outputs": [
    {
     "name": "stdout",
     "output_type": "stream",
     "text": [
      "[-2.672217304042017, -4.101281486217399]\n",
      "[-8.039282818227496, 2.8319065022588026]\n",
      "[3.3645318481024713, 0.31055081545006236]\n",
      "[0.5534653004366121, 1.8002979493400275]\n",
      "[-5.740691049309148, 3.9577428483393575]\n"
     ]
    }
   ],
   "source": [
    "filepath = \"cluster_data.txt\"\n",
    "my_data = read_data(filepath)\n",
    "for elem in my_data[:5]:\n",
    "    print(elem)"
   ]
  },
  {
   "cell_type": "markdown",
   "metadata": {},
   "source": [
    "1.3 Visualize Data (1)\n",
    "For visualization we use the canonical matplotlib package. Please familiarize yourself with this package, even though we provide you with a visualization\n",
    "function for now. We will for sure need it in a later stage.\n",
    "The provided function accepts the data as input and optio"
   ]
  },
  {
   "cell_type": "code",
   "execution_count": 3,
   "metadata": {},
   "outputs": [
    {
     "name": "stdout",
     "output_type": "stream",
     "text": [
      "[[1. 1. 1.]\n",
      " [1. 1. 1.]\n",
      " [1. 1. 1.]]\n"
     ]
    }
   ],
   "source": [
    "import numpy as np\n",
    "print(np.ones((3,3)))"
   ]
  },
  {
   "cell_type": "code",
   "execution_count": 4,
   "metadata": {},
   "outputs": [
    {
     "ename": "ModuleNotFoundError",
     "evalue": "No module named 'matplotlib'",
     "output_type": "error",
     "traceback": [
      "\u001b[0;31m---------------------------------------------------------------------------\u001b[0m",
      "\u001b[0;31mModuleNotFoundError\u001b[0m                       Traceback (most recent call last)",
      "Cell \u001b[0;32mIn[4], line 2\u001b[0m\n\u001b[1;32m      1\u001b[0m \u001b[38;5;28;01mimport\u001b[39;00m \u001b[38;5;21;01mnumpy\u001b[39;00m \u001b[38;5;28;01mas\u001b[39;00m \u001b[38;5;21;01mnp\u001b[39;00m\n\u001b[0;32m----> 2\u001b[0m \u001b[38;5;28;01mimport\u001b[39;00m \u001b[38;5;21;01mmatplotlib\u001b[39;00m\u001b[38;5;21;01m.\u001b[39;00m\u001b[38;5;21;01mpyplot\u001b[39;00m \u001b[38;5;28;01mas\u001b[39;00m \u001b[38;5;21;01mplt\u001b[39;00m\n\u001b[1;32m      4\u001b[0m colors \u001b[38;5;241m=\u001b[39m [\u001b[38;5;124m\"\u001b[39m\u001b[38;5;124mg\u001b[39m\u001b[38;5;124m\"\u001b[39m, \u001b[38;5;124m\"\u001b[39m\u001b[38;5;124my\u001b[39m\u001b[38;5;124m\"\u001b[39m, \u001b[38;5;124m\"\u001b[39m\u001b[38;5;124mc\u001b[39m\u001b[38;5;124m\"\u001b[39m, \u001b[38;5;124m\"\u001b[39m\u001b[38;5;124mm\u001b[39m\u001b[38;5;124m\"\u001b[39m, \u001b[38;5;124m\"\u001b[39m\u001b[38;5;124mb\u001b[39m\u001b[38;5;124m\"\u001b[39m, \u001b[38;5;124m\"\u001b[39m\u001b[38;5;124mr\u001b[39m\u001b[38;5;124m\"\u001b[39m, \u001b[38;5;124m\"\u001b[39m\u001b[38;5;124mk\u001b[39m\u001b[38;5;124m\"\u001b[39m]\n\u001b[1;32m      5\u001b[0m \u001b[38;5;28;01mdef\u001b[39;00m \u001b[38;5;21mvisualize_data\u001b[39m(data, centroids\u001b[38;5;241m=\u001b[39m\u001b[38;5;28;01mNone\u001b[39;00m, labels\u001b[38;5;241m=\u001b[39m\u001b[38;5;28;01mNone\u001b[39;00m, figsize\u001b[38;5;241m=\u001b[39m(\u001b[38;5;241m5\u001b[39m, \u001b[38;5;241m4\u001b[39m)):\n",
      "\u001b[0;31mModuleNotFoundError\u001b[0m: No module named 'matplotlib'"
     ]
    }
   ],
   "source": [
    "import numpy as np\n",
    "import matplotlib.pyplot as plt\n",
    "\n",
    "colors = [\"g\", \"y\", \"c\", \"m\", \"b\", \"r\", \"k\"]\n",
    "def visualize_data(data, centroids=None, labels=None, figsize=(5, 4)):\n",
    "    plt.figure(figsize=figsize)\n",
    "    if labels is not None:\n",
    "        color_data = [colors[x] for x in labels]\n",
    "        if centroids is not None:\n",
    "            color_centroid = colors[:len(centroids)]\n",
    "    else:\n",
    "        color_data = color_centroid = \"C0\"\n",
    "    # plot the data\n",
    "    plt.scatter([x[0] for x in data], [x[1] for x in data], c=color_data, s=20)\n",
    "    # plot the centroids if they are given\n",
    "    if centroids is not None:\n",
    "        plt.scatter(\n",
    "        [x[0] for x in centroids],\n",
    "        [x[1] for x in centroids],\n",
    "        c=color_centroid, marker=\"X\",\n",
    "        s=80, linewidths=1, edgecolors=\"k\"\n",
    "        )\n",
    "        \n",
    "    plt.xlabel(\"X\")\n",
    "    plt.ylabel(\"Y\")\n",
    "    plt.show()"
   ]
  },
  {
   "cell_type": "markdown",
   "metadata": {},
   "source": [
    "2. Distance Function (2)\n",
    "As we have learned in the lecture, we need some kind of metric to represent (dis-)similarity between data points. For now we will use the Euclidean distance,\n",
    "which is defined for two points p and q with dimension n as\n",
    "Euclidean distance formula\n",
    "Please follow the function signature from below and complete the syntax, so that the function returns the Euclidean distance of two points. For now it is\n",
    "sufficient if you implement it for points x ∈ R2."
   ]
  },
  {
   "cell_type": "markdown",
   "metadata": {},
   "source": [
    "3. K-means Algorithm (6)\n",
    "The general procedure of the K-means algorithm is as follows:\n",
    "1. You initialize the algorithm with k different centroids. The hyper-parameter k represents the number of clusters you assume in your dataset.\n",
    "2. For each data point you assign the cluster with the nearest representative/centroid.\n",
    "3. Based on the previously computed cluster assignments, you compute new centroids.\n",
    "You repeat from step 2 until the centroids do not change anymore and the algorithm has converged.\n",
    "Below you find a class KMeans that is initialized with a list of centroids. It implements two functions, assign_clusters and compute_new_centroids ,\n",
    "which represent step 2. and 3. from above. Please implement the missing parts of this class. Only use pure python and the euclidean_distance function\n",
    "from above."
   ]
  },
  {
   "cell_type": "markdown",
   "metadata": {},
   "source": [
    "4. Learning from Data (7)\n",
    "4.1 Training loop (4)\n",
    "Now we have everything together for setting up the training loop. Please perform k-means clustering for 4 epochs on the data with the three given centroids.\n",
    "After each step (cluster assignment and new centroid computation), visualize the data, including labels and centroids."
   ]
  },
  {
   "cell_type": "markdown",
   "metadata": {},
   "source": [
    "4.2 Results (1)\n",
    "What do you observe here? Do you see any problems? What are these problems and what do you need to change in order to get a better clustering of your\n",
    "data?\n",
    "Answer: We choose k = 3 even though the dataset has 4 clusters in total. This is why our algorithm converges to a sub-optimal solution. We would need to\n",
    "initialize our algorithm with four centroids.\n",
    "4.3 Hyper-parameter tuning (2)\n",
    "In machine learning we have the so-called hyper-parameters. These are parameters we need to tune in order to get good results. For k-means we have a\n",
    "single hyper-parameter k that defines how many centroids we use to initialize our algorithm. Below you find a function that returns randomly initialized\n",
    "centroids, given the parameter k. Under the hood it uses a very important package called numpy, which we will further get to know in the upcoming lectures.\n",
    "Feel free to already get familiar with it."
   ]
  }
 ],
 "metadata": {
  "kernelspec": {
   "display_name": "visionenv",
   "language": "python",
   "name": "python3"
  },
  "language_info": {
   "codemirror_mode": {
    "name": "ipython",
    "version": 3
   },
   "file_extension": ".py",
   "mimetype": "text/x-python",
   "name": "python",
   "nbconvert_exporter": "python",
   "pygments_lexer": "ipython3",
   "version": "3.13.0"
  }
 },
 "nbformat": 4,
 "nbformat_minor": 2
}
