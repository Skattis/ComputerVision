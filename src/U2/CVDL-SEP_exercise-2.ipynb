{
 "cells": [
  {
   "cell_type": "markdown",
   "metadata": {
    "collapsed": false
   },
   "source": [
    "# Computer Vision & Deep Learning - SEP Practical\n",
    "\n",
    "## Exercise Sheet 2: Image operations\n",
    "\n",
    "**Due on 07.11., 10:00**\n",
    "\n",
    "## Important notes\n",
    "\n",
    "- Email: Frequently check your email address registered for Moodle. All notifications regarding the course will be sent via Moodle.\n",
    "- Moodle: Please use the Moodle platform and post your questions to the forum. They will be answered by us or your fellow students.\n",
    "-  Submission: Put your code and potentially other materials inside a single ZIP file. If you use jupyter notebooks, please always create a PDF file and include it in your ZIP file. The final submission should therefore be a **single zip** file with a **PDF of your code** and the **original code** inside. The ZIP file should contain your surname and your matriculation number (Surname-MatriculationNumber.zip). Submissions that fail to follow the naming convention will not be graded!\n",
    "\n"
   ]
  },
  {
   "cell_type": "markdown",
   "metadata": {
    "collapsed": false
   },
   "source": [
    "## 0. Preparation (1)\n",
    "In the upcoming lectures and exercises we will heavily make use of the following packages. If you have not worked with them yet, please go through some Python tutorials to familiarize yourself with the syntax and basic data structures.\n",
    "\n",
    "- `NumPy`: Defines multi-dimensional arrays and provides efficient functions to operate on them (see [NumPy documentation](https://numpy.org/)).\n",
    "- `Matplotlib`: Provides plotting functions (see [Matplotlib documentation](https://matplotlib.org/)).\n",
    "- `Pillow`: Python Imaging Library that allows you to load, save, crop, and resize images (and much more). You can convert NumPy arrays to PIL images and vice versa. Note that Pillow only accepts NumPy arrays in `uint8` format (unsigned 8-bit integer) with each pixel value in range [0, 255] (see [Pillow documentation](https://pillow.readthedocs.io/en/stable/)).\n",
    "\n",
    "This is a free point so you don't have to implement anything for this task, but please take it seriously and familiarize yourself with these packages!"
   ]
  },
  {
   "cell_type": "code",
   "execution_count": 16,
   "metadata": {
    "collapsed": false
   },
   "outputs": [],
   "source": [
    "import numpy as np\n",
    "from PIL import Image\n",
    "import matplotlib.pyplot as plt"
   ]
  },
  {
   "cell_type": "markdown",
   "metadata": {
    "collapsed": false
   },
   "source": [
    "---\n",
    "## 1. Simple Image Operations (8)\n",
    "\n",
    "### 1.1 Image Loading (1)\n",
    "As a first step, please load the image `Capybara.jpg` with the `Pillow` package and convert it to a numpy array. Print the height, width, and number of channels of the image."
   ]
  },
  {
   "cell_type": "code",
   "execution_count": 2,
   "metadata": {
    "collapsed": false
   },
   "outputs": [],
   "source": [
    "# TODO"
   ]
  },
  {
   "cell_type": "markdown",
   "metadata": {
    "collapsed": false
   },
   "source": [
    "### 1.2 Visualization (1)\n",
    "\n",
    "Plot the image with `matplotlib` and include the height, width, and number of channels in the title like $H \\times W \\times C$."
   ]
  },
  {
   "cell_type": "code",
   "execution_count": 3,
   "metadata": {
    "collapsed": false
   },
   "outputs": [],
   "source": [
    "# TODO"
   ]
  },
  {
   "cell_type": "markdown",
   "metadata": {
    "collapsed": false
   },
   "source": [
    "### 1.3 Crop Image (1)\n",
    "\n",
    "Please plot a random crop of size $256 \\times 256$ of the image."
   ]
  },
  {
   "cell_type": "code",
   "execution_count": 4,
   "metadata": {
    "collapsed": false
   },
   "outputs": [],
   "source": [
    "# TODO"
   ]
  },
  {
   "cell_type": "markdown",
   "metadata": {
    "collapsed": false
   },
   "source": [
    "### 1.4 Gray-scale (1)\n",
    "\n",
    "Convert the cropped out image patch to grayscale and plot it."
   ]
  },
  {
   "cell_type": "code",
   "execution_count": 5,
   "metadata": {
    "collapsed": false
   },
   "outputs": [],
   "source": [
    "# TODO"
   ]
  },
  {
   "cell_type": "markdown",
   "metadata": {
    "collapsed": false
   },
   "source": [
    "### 1.5 Insertion (3)\n",
    "\n",
    "Insert the grayscale patch back into the original image (note that the grayscale patch only has one channel) and plot it.\n",
    "\n",
    "*Hint*: You can use the `np.repeat` function to repeat the grayscale patch along the channel axis."
   ]
  },
  {
   "cell_type": "code",
   "execution_count": 6,
   "metadata": {
    "collapsed": false
   },
   "outputs": [],
   "source": [
    "# TODO"
   ]
  },
  {
   "cell_type": "markdown",
   "metadata": {
    "collapsed": false
   },
   "source": [
    "### 1.6 Resizing (1)\n",
    "Resize the image with the inserted grayscale patch with a factor of $1/2$ for both, height and width. Plot the resized image."
   ]
  },
  {
   "cell_type": "code",
   "execution_count": 7,
   "metadata": {
    "collapsed": false
   },
   "outputs": [],
   "source": [
    "# TODO"
   ]
  },
  {
   "cell_type": "markdown",
   "metadata": {
    "collapsed": false
   },
   "source": [
    "---\n",
    "## 2. Histogram (6)\n",
    "\n",
    "In the lecture we learned that we can also represent images as histograms. In this exercise we will implement a simple histogram computation and plot it."
   ]
  },
  {
   "cell_type": "markdown",
   "metadata": {
    "collapsed": false
   },
   "source": [
    "### 2.1 Histogram Computation (3)\n",
    "\n",
    "Please write a function that takes a single channel image (2D `numpy` array) and computes the histogram of it. The function should return a list of length $256$ where each entry corresponds to the number of pixels with the corresponding intensity value. Plot the histogram of the image `Capybara.jpg` per channel. Please use the `matplotlib` function `plt.subplots(...)` for that, so that you have all three histograms (RGB) in one figure. Also make sure to colorize the histograms according to the color they represent, e.g. the histogram of the blue channel should be blue."
   ]
  },
  {
   "cell_type": "code",
   "execution_count": 24,
   "metadata": {
    "collapsed": false
   },
   "outputs": [],
   "source": [
    "def compute_histogram(im_arr):\n",
    "    histogram = np.zeros(256)\n",
    "    # TODO\n",
    "    return histogram"
   ]
  },
  {
   "cell_type": "code",
   "execution_count": 8,
   "metadata": {
    "collapsed": false
   },
   "outputs": [],
   "source": [
    "# TODO: plot the histogram of the image per channel in a single figure"
   ]
  },
  {
   "cell_type": "markdown",
   "metadata": {
    "collapsed": false
   },
   "source": [
    "### 2.2 Shifting Color Channels (3)\n",
    "\n",
    "Please write a function that takes an image and shifts a specific channel by a given value. Make sure that the values are still in the valid range of [0, 255].\n",
    "\n",
    "We can see that in the `Capybara.jpg` image we only have few pixels with a high intensity value in the blue channel. Please shift the blue channel by $+25$ and plot the histogram of the shifted image. Furthermore, plot the original and the shifted image side-by-side for comparison.\n",
    "\n",
    "**Hint**: Also take care of numerical overflow."
   ]
  },
  {
   "cell_type": "code",
   "execution_count": 9,
   "metadata": {
    "collapsed": false
   },
   "outputs": [],
   "source": [
    "def shift_channel(im_arr, channel, shift):\n",
    "    # TODO\n",
    "    return"
   ]
  },
  {
   "cell_type": "code",
   "execution_count": 10,
   "metadata": {
    "collapsed": false
   },
   "outputs": [],
   "source": [
    "# TODO: shift the red channel to the right by 25"
   ]
  },
  {
   "cell_type": "code",
   "execution_count": 11,
   "metadata": {
    "collapsed": false
   },
   "outputs": [],
   "source": [
    "# TODO: plot the histogram of the shifted image per channel"
   ]
  },
  {
   "cell_type": "code",
   "execution_count": 12,
   "metadata": {
    "collapsed": false
   },
   "outputs": [],
   "source": [
    "# TODO: plot the shifted and original image side by side"
   ]
  },
  {
   "cell_type": "markdown",
   "metadata": {
    "collapsed": false
   },
   "source": [
    "---\n",
    "## 3. Image Clustering (5)\n",
    "\n",
    "In the last exercise we have implemented the K-Means algorithm, however, as with most popular algorithms, it is already implemented in a python package. The package `scikit-learn` offers plenty of machine learning algorithms, including K-Means. Please familiarize yourself with the [`KMeans`](https://scikit-learn.org/stable/modules/generated/sklearn.cluster.KMeans.html) class.\n",
    "\n",
    "We can use K-Means now to cluster the pixels of our `Capybara.jpg` image. In order to reduce the computational complexity and therefore the runtime, please decrease the height and width of the image by a factor of $1/4$. Then cluster the pixels of the image for $k=2$, $k=24$, and $k=64$ based on their color. Use `n_init=4` and `random_state=0` for the initialization of the `KMeans` class. The cluster centroids can be interpreted as the average color of the pixels in the cluster. For each pixel in the image, assign the color of the cluster centroid it belongs to. Plot the clustered images for the three different values of $k$.\n",
    "\n",
    " **Hint**: Since we treat every pixel as a data point with three features (RGB values) you first need to reshape the image array to an array of shape $(H \\cdot W, 3)$. You can use the function `np.reshape` for that. After clustering, you can reshape the array back to the original shape of the image. You can use the function `np.reshape` for that as well.\n",
    "\n",
    "**Hint**: The labels of the pixels, as well as the centroids of your clustering can be accessed with the `labels_` and the `cluster_centers_` attributes of the `KMeans` object."
   ]
  },
  {
   "cell_type": "code",
   "execution_count": 85,
   "metadata": {
    "collapsed": false
   },
   "outputs": [],
   "source": [
    "from sklearn.cluster import KMeans"
   ]
  },
  {
   "cell_type": "code",
   "execution_count": 86,
   "metadata": {
    "collapsed": false
   },
   "outputs": [],
   "source": [
    "# TODO: do k-means clustering on the image for k=2, k=24, and k=64"
   ]
  },
  {
   "cell_type": "code",
   "execution_count": 13,
   "metadata": {
    "collapsed": false
   },
   "outputs": [],
   "source": [
    "# TODO: plot the clustered image"
   ]
  },
  {
   "cell_type": "markdown",
   "metadata": {
    "collapsed": false
   },
   "source": [
    "---"
   ]
  }
 ],
 "metadata": {
  "kernelspec": {
   "display_name": "Python 3",
   "language": "python",
   "name": "python3"
  },
  "language_info": {
   "codemirror_mode": {
    "name": "ipython",
    "version": 2
   },
   "file_extension": ".py",
   "mimetype": "text/x-python",
   "name": "python",
   "nbconvert_exporter": "python",
   "pygments_lexer": "ipython2",
   "version": "2.7.6"
  }
 },
 "nbformat": 4,
 "nbformat_minor": 0
}
